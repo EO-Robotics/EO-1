{
 "cells": [
  {
   "cell_type": "markdown",
   "id": "553b0140",
   "metadata": {},
   "source": [
    "# Guide to load dataset for inference\n",
    "\n",
    "\n",
    "## 1. LeRobot Format\n",
    "\n",
    "* This tutorial will show how to load data in LeRobot Format by using our dataloader. \n",
    "* We will use the `robot_sim.PickNPlace` dataset as an example which is already converted to LeRobot Format. \n",
    "* To understand how to convert your own dataset, please refer to [Gr00t's LeRobot.md](LeRobot_compatible_data_schema.md)"
   ]
  },
  {
   "cell_type": "code",
   "execution_count": null,
   "id": "32d82c94",
   "metadata": {},
   "outputs": [],
   "source": [
    "# download dataset from hub\n",
    "!huggingface-cli download libero_10_no_noops_1.0.0_lerobot --repo-id libero_10_no_noops_1.0.0_lerobot --allow-patterns \"*.mp4\""
   ]
  },
  {
   "cell_type": "markdown",
   "id": "9f1c6661",
   "metadata": {},
   "source": [
    "- meta data"
   ]
  },
  {
   "cell_type": "code",
   "execution_count": 7,
   "id": "121fb6a6",
   "metadata": {},
   "outputs": [
    {
     "data": {
      "text/plain": [
       "LeRobotDatasetMetadata({\n",
       "    Repository ID: 'demos25',\n",
       "    Total episodes: '25',\n",
       "    Total frames: '44492',\n",
       "    Features: '['observation.images.head', 'observation.images.head_center_fisheye', 'observation.images.head_left_fisheye', 'observation.images.head_right_fisheye', 'observation.images.hand_left', 'observation.images.hand_right', 'observation.images.back_left_fisheye', 'observation.images.back_right_fisheye', 'observation.states.effector.position', 'observation.states.end.orientation', 'observation.states.end.position', 'observation.states.head.position', 'observation.states.joint.current_value', 'observation.states.joint.position', 'observation.states.robot.orientation', 'observation.states.robot.position', 'observation.states.waist.position', 'actions.effector.position', 'actions.end.orientation', 'actions.end.position', 'actions.head.position', 'actions.joint.position', 'actions.robot.velocity', 'actions.waist.position', 'timestamp', 'frame_index', 'episode_index', 'index', 'task_index']',\n",
       "})',"
      ]
     },
     "execution_count": 7,
     "metadata": {},
     "output_type": "execute_result"
    }
   ],
   "source": [
    "from lerobot.datasets.lerobot_dataset import LeRobotDatasetMetadata\n",
    "\n",
    "from eo.data.lerobot_dataset import LeRobotDataset\n",
    "\n",
    "meta = LeRobotDatasetMetadata(\n",
    "    repo_id=\"demos25\",\n",
    "    root=\"../demo_data/demos25\",\n",
    ")\n",
    "meta"
   ]
  },
  {
   "cell_type": "code",
   "execution_count": 18,
   "id": "901ba114",
   "metadata": {},
   "outputs": [
    {
     "ename": "ValueError",
     "evalue": "One or several timestamps unexpectedly violate the tolerance inside episode range.\n                This might be due to synchronization issues during data collection.\n                \n[{'diff': np.float32(-59.433334),\n  'episode_index': 0,\n  'timestamps': [np.float32(59.433334), np.float32(0.0)]},\n {'diff': np.float32(-66.96667),\n  'episode_index': 1,\n  'timestamps': [np.float32(66.96667), np.float32(0.0)]},\n {'diff': np.float32(-59.033333),\n  'episode_index': 2,\n  'timestamps': [np.float32(59.033333), np.float32(0.0)]},\n {'diff': np.float32(-58.533333),\n  'episode_index': 3,\n  'timestamps': [np.float32(58.533333), np.float32(0.0)]},\n {'diff': np.float32(-61.2),\n  'episode_index': 4,\n  'timestamps': [np.float32(61.2), np.float32(0.0)]},\n {'diff': np.float32(-66.0),\n  'episode_index': 5,\n  'timestamps': [np.float32(66.0), np.float32(0.0)]},\n {'diff': np.float32(-60.166668),\n  'episode_index': 6,\n  'timestamps': [np.float32(60.166668), np.float32(0.0)]},\n {'diff': np.float32(-63.366665),\n  'episode_index': 7,\n  'timestamps': [np.float32(63.366665), np.float32(0.0)]},\n {'diff': np.float32(-61.0),\n  'episode_index': 8,\n  'timestamps': [np.float32(61.0), np.float32(0.0)]},\n {'diff': np.float32(-57.1),\n  'episode_index': 9,\n  'timestamps': [np.float32(57.1), np.float32(0.0)]},\n {'diff': np.float32(-59.166668),\n  'episode_index': 10,\n  'timestamps': [np.float32(59.166668), np.float32(0.0)]},\n {'diff': np.float32(-59.033333),\n  'episode_index': 11,\n  'timestamps': [np.float32(59.033333), np.float32(0.0)]},\n {'diff': np.float32(-57.266666),\n  'episode_index': 12,\n  'timestamps': [np.float32(57.266666), np.float32(0.0)]},\n {'diff': np.float32(-52.933334),\n  'episode_index': 13,\n  'timestamps': [np.float32(52.933334), np.float32(0.0)]},\n {'diff': np.float32(-58.933334),\n  'episode_index': 14,\n  'timestamps': [np.float32(58.933334), np.float32(0.0)]},\n {'diff': np.float32(-57.8),\n  'episode_index': 15,\n  'timestamps': [np.float32(57.8), np.float32(0.0)]},\n {'diff': np.float32(-55.7),\n  'episode_index': 16,\n  'timestamps': [np.float32(55.7), np.float32(0.0)]},\n {'diff': np.float32(-61.933334),\n  'episode_index': 17,\n  'timestamps': [np.float32(61.933334), np.float32(0.0)]},\n {'diff': np.float32(-55.433334),\n  'episode_index': 18,\n  'timestamps': [np.float32(55.433334), np.float32(0.0)]},\n {'diff': np.float32(-57.0),\n  'episode_index': 19,\n  'timestamps': [np.float32(57.0), np.float32(0.0)]},\n {'diff': np.float32(-63.066666),\n  'episode_index': 20,\n  'timestamps': [np.float32(63.066666), np.float32(0.0)]},\n {'diff': np.float32(-61.833332),\n  'episode_index': 21,\n  'timestamps': [np.float32(61.833332), np.float32(0.0)]},\n {'diff': np.float32(-54.033333),\n  'episode_index': 22,\n  'timestamps': [np.float32(54.033333), np.float32(0.0)]},\n {'diff': np.float32(-54.833332),\n  'episode_index': 23,\n  'timestamps': [np.float32(54.833332), np.float32(0.0)]}]",
     "output_type": "error",
     "traceback": [
      "\u001b[0;31m---------------------------------------------------------------------------\u001b[0m",
      "\u001b[0;31mValueError\u001b[0m                                Traceback (most recent call last)",
      "Cell \u001b[0;32mIn[18], line 3\u001b[0m\n\u001b[1;32m      1\u001b[0m select_action_keys \u001b[38;5;241m=\u001b[39m [k \u001b[38;5;28;01mfor\u001b[39;00m k \u001b[38;5;129;01min\u001b[39;00m meta\u001b[38;5;241m.\u001b[39mfeatures \u001b[38;5;28;01mif\u001b[39;00m k\u001b[38;5;241m.\u001b[39mstartswith(\u001b[38;5;124m\"\u001b[39m\u001b[38;5;124maction\u001b[39m\u001b[38;5;124m\"\u001b[39m)]\n\u001b[0;32m----> 3\u001b[0m dataset \u001b[38;5;241m=\u001b[39m \u001b[43mLeRobotDataset\u001b[49m\u001b[43m(\u001b[49m\n\u001b[1;32m      4\u001b[0m \u001b[43m    \u001b[49m\u001b[43mrepo_id\u001b[49m\u001b[38;5;241;43m=\u001b[39;49m\u001b[38;5;124;43m\"\u001b[39;49m\u001b[38;5;124;43mdemos25\u001b[39;49m\u001b[38;5;124;43m\"\u001b[39;49m\u001b[43m,\u001b[49m\n\u001b[1;32m      5\u001b[0m \u001b[43m    \u001b[49m\u001b[43mroot\u001b[49m\u001b[38;5;241;43m=\u001b[39;49m\u001b[38;5;124;43m\"\u001b[39;49m\u001b[38;5;124;43m../demo_data/demos25\u001b[39;49m\u001b[38;5;124;43m\"\u001b[39;49m\u001b[43m,\u001b[49m\n\u001b[1;32m      6\u001b[0m \u001b[43m    \u001b[49m\u001b[43mtolerance_s\u001b[49m\u001b[38;5;241;43m=\u001b[39;49m\u001b[38;5;241;43m1e-3\u001b[39;49m\u001b[43m,\u001b[49m\n\u001b[1;32m      7\u001b[0m \u001b[43m    \u001b[49m\u001b[43mdelta_timestamps\u001b[49m\u001b[38;5;241;43m=\u001b[39;49m\u001b[43m{\u001b[49m\n\u001b[1;32m      8\u001b[0m \u001b[43m        \u001b[49m\u001b[43mk\u001b[49m\u001b[43m:\u001b[49m\u001b[43m \u001b[49m\u001b[43m[\u001b[49m\u001b[43mi\u001b[49m\u001b[43m \u001b[49m\u001b[38;5;241;43m/\u001b[39;49m\u001b[43m \u001b[49m\u001b[43mmeta\u001b[49m\u001b[38;5;241;43m.\u001b[39;49m\u001b[43mfps\u001b[49m\u001b[43m \u001b[49m\u001b[38;5;28;43;01mfor\u001b[39;49;00m\u001b[43m \u001b[49m\u001b[43mi\u001b[49m\u001b[43m \u001b[49m\u001b[38;5;129;43;01min\u001b[39;49;00m\u001b[43m \u001b[49m\u001b[38;5;28;43mrange\u001b[39;49m\u001b[43m(\u001b[49m\u001b[38;5;241;43m0\u001b[39;49m\u001b[43m,\u001b[49m\u001b[43m \u001b[49m\u001b[38;5;241;43m50\u001b[39;49m\u001b[43m)\u001b[49m\u001b[43m]\u001b[49m\u001b[43m \u001b[49m\n\u001b[1;32m      9\u001b[0m \u001b[43m        \u001b[49m\u001b[38;5;28;43;01mfor\u001b[39;49;00m\u001b[43m \u001b[49m\u001b[43mk\u001b[49m\u001b[43m \u001b[49m\u001b[38;5;129;43;01min\u001b[39;49;00m\u001b[43m \u001b[49m\u001b[43mselect_action_keys\u001b[49m\n\u001b[1;32m     10\u001b[0m \u001b[43m    \u001b[49m\u001b[43m}\u001b[49m\n\u001b[1;32m     11\u001b[0m \u001b[43m)\u001b[49m\n\u001b[1;32m     12\u001b[0m dataset[\u001b[38;5;241m0\u001b[39m]\u001b[38;5;241m.\u001b[39mkeys()\n",
      "File \u001b[0;32m/mnt/shared-storage-user/eorobotics-shared/EO-1/eo/data/lerobot_dataset.py:82\u001b[0m, in \u001b[0;36mLeRobotDataset.__init__\u001b[0;34m(self, repo_id, root, episodes, image_transforms, delta_timestamps, tolerance_s, revision, force_cache_sync, download_videos, video_backend, state_mode, select_video_keys, select_state_keys, select_action_keys, train_subtask, delta_action, effector_indices, weight, chunk_size)\u001b[0m\n\u001b[1;32m     59\u001b[0m \u001b[38;5;28;01mdef\u001b[39;00m\u001b[38;5;250m \u001b[39m\u001b[38;5;21m__init__\u001b[39m(\n\u001b[1;32m     60\u001b[0m     \u001b[38;5;28mself\u001b[39m,\n\u001b[1;32m     61\u001b[0m     repo_id: \u001b[38;5;28mstr\u001b[39m,\n\u001b[0;32m   (...)\u001b[0m\n\u001b[1;32m     80\u001b[0m     chunk_size: \u001b[38;5;28mint\u001b[39m \u001b[38;5;241m=\u001b[39m \u001b[38;5;241m32\u001b[39m,\n\u001b[1;32m     81\u001b[0m ):\n\u001b[0;32m---> 82\u001b[0m     \u001b[38;5;28;43msuper\u001b[39;49m\u001b[43m(\u001b[49m\u001b[43m)\u001b[49m\u001b[38;5;241;43m.\u001b[39;49m\u001b[38;5;21;43m__init__\u001b[39;49m\u001b[43m(\u001b[49m\n\u001b[1;32m     83\u001b[0m \u001b[43m        \u001b[49m\u001b[43mrepo_id\u001b[49m\u001b[38;5;241;43m=\u001b[39;49m\u001b[43mrepo_id\u001b[49m\u001b[43m,\u001b[49m\n\u001b[1;32m     84\u001b[0m \u001b[43m        \u001b[49m\u001b[43mroot\u001b[49m\u001b[38;5;241;43m=\u001b[39;49m\u001b[43mroot\u001b[49m\u001b[43m,\u001b[49m\n\u001b[1;32m     85\u001b[0m \u001b[43m        \u001b[49m\u001b[43mepisodes\u001b[49m\u001b[38;5;241;43m=\u001b[39;49m\u001b[43mepisodes\u001b[49m\u001b[43m,\u001b[49m\n\u001b[1;32m     86\u001b[0m \u001b[43m        \u001b[49m\u001b[43mimage_transforms\u001b[49m\u001b[38;5;241;43m=\u001b[39;49m\u001b[43mimage_transforms\u001b[49m\u001b[43m,\u001b[49m\n\u001b[1;32m     87\u001b[0m \u001b[43m        \u001b[49m\u001b[43mdelta_timestamps\u001b[49m\u001b[38;5;241;43m=\u001b[39;49m\u001b[43mdelta_timestamps\u001b[49m\u001b[43m,\u001b[49m\n\u001b[1;32m     88\u001b[0m \u001b[43m        \u001b[49m\u001b[43mtolerance_s\u001b[49m\u001b[38;5;241;43m=\u001b[39;49m\u001b[43mtolerance_s\u001b[49m\u001b[43m,\u001b[49m\n\u001b[1;32m     89\u001b[0m \u001b[43m        \u001b[49m\u001b[43mrevision\u001b[49m\u001b[38;5;241;43m=\u001b[39;49m\u001b[43mrevision\u001b[49m\u001b[43m,\u001b[49m\n\u001b[1;32m     90\u001b[0m \u001b[43m        \u001b[49m\u001b[43mforce_cache_sync\u001b[49m\u001b[38;5;241;43m=\u001b[39;49m\u001b[43mforce_cache_sync\u001b[49m\u001b[43m,\u001b[49m\n\u001b[1;32m     91\u001b[0m \u001b[43m        \u001b[49m\u001b[43mdownload_videos\u001b[49m\u001b[38;5;241;43m=\u001b[39;49m\u001b[43mdownload_videos\u001b[49m\u001b[43m,\u001b[49m\n\u001b[1;32m     92\u001b[0m \u001b[43m        \u001b[49m\u001b[43mvideo_backend\u001b[49m\u001b[38;5;241;43m=\u001b[39;49m\u001b[43mvideo_backend\u001b[49m\u001b[43m,\u001b[49m\n\u001b[1;32m     93\u001b[0m \u001b[43m    \u001b[49m\u001b[43m)\u001b[49m\n\u001b[1;32m     94\u001b[0m     \u001b[38;5;66;03m# set weight for the dataset\u001b[39;00m\n\u001b[1;32m     95\u001b[0m     \u001b[38;5;28mself\u001b[39m\u001b[38;5;241m.\u001b[39mset_weight(weight)\n",
      "File \u001b[0;32m/mnt/shared-storage-user/eorobotics-shared/miniconda3/envs/eo/lib/python3.10/site-packages/lerobot/datasets/lerobot_dataset.py:492\u001b[0m, in \u001b[0;36mLeRobotDataset.__init__\u001b[0;34m(self, repo_id, root, episodes, image_transforms, delta_timestamps, tolerance_s, revision, force_cache_sync, download_videos, video_backend, batch_encoding_size)\u001b[0m\n\u001b[1;32m    490\u001b[0m episode_indices \u001b[38;5;241m=\u001b[39m torch\u001b[38;5;241m.\u001b[39mstack(\u001b[38;5;28mself\u001b[39m\u001b[38;5;241m.\u001b[39mhf_dataset[\u001b[38;5;124m\"\u001b[39m\u001b[38;5;124mepisode_index\u001b[39m\u001b[38;5;124m\"\u001b[39m])\u001b[38;5;241m.\u001b[39mnumpy()\n\u001b[1;32m    491\u001b[0m ep_data_index_np \u001b[38;5;241m=\u001b[39m {k: t\u001b[38;5;241m.\u001b[39mnumpy() \u001b[38;5;28;01mfor\u001b[39;00m k, t \u001b[38;5;129;01min\u001b[39;00m \u001b[38;5;28mself\u001b[39m\u001b[38;5;241m.\u001b[39mepisode_data_index\u001b[38;5;241m.\u001b[39mitems()}\n\u001b[0;32m--> 492\u001b[0m \u001b[43mcheck_timestamps_sync\u001b[49m\u001b[43m(\u001b[49m\u001b[43mtimestamps\u001b[49m\u001b[43m,\u001b[49m\u001b[43m \u001b[49m\u001b[43mepisode_indices\u001b[49m\u001b[43m,\u001b[49m\u001b[43m \u001b[49m\u001b[43mep_data_index_np\u001b[49m\u001b[43m,\u001b[49m\u001b[43m \u001b[49m\u001b[38;5;28;43mself\u001b[39;49m\u001b[38;5;241;43m.\u001b[39;49m\u001b[43mfps\u001b[49m\u001b[43m,\u001b[49m\u001b[43m \u001b[49m\u001b[38;5;28;43mself\u001b[39;49m\u001b[38;5;241;43m.\u001b[39;49m\u001b[43mtolerance_s\u001b[49m\u001b[43m)\u001b[49m\n\u001b[1;32m    494\u001b[0m \u001b[38;5;66;03m# Setup delta_indices\u001b[39;00m\n\u001b[1;32m    495\u001b[0m \u001b[38;5;28;01mif\u001b[39;00m \u001b[38;5;28mself\u001b[39m\u001b[38;5;241m.\u001b[39mdelta_timestamps \u001b[38;5;129;01mis\u001b[39;00m \u001b[38;5;129;01mnot\u001b[39;00m \u001b[38;5;28;01mNone\u001b[39;00m:\n",
      "File \u001b[0;32m/mnt/shared-storage-user/eorobotics-shared/miniconda3/envs/eo/lib/python3.10/site-packages/lerobot/datasets/utils.py:574\u001b[0m, in \u001b[0;36mcheck_timestamps_sync\u001b[0;34m(timestamps, episode_indices, episode_data_index, fps, tolerance_s, raise_value_error)\u001b[0m\n\u001b[1;32m    571\u001b[0m         outside_tolerances\u001b[38;5;241m.\u001b[39mappend(entry)\n\u001b[1;32m    573\u001b[0m     \u001b[38;5;28;01mif\u001b[39;00m raise_value_error:\n\u001b[0;32m--> 574\u001b[0m         \u001b[38;5;28;01mraise\u001b[39;00m \u001b[38;5;167;01mValueError\u001b[39;00m(\n\u001b[1;32m    575\u001b[0m             \u001b[38;5;124mf\u001b[39m\u001b[38;5;124m\"\"\"\u001b[39m\u001b[38;5;124mOne or several timestamps unexpectedly violate the tolerance inside episode range.\u001b[39m\n\u001b[1;32m    576\u001b[0m \u001b[38;5;124m            This might be due to synchronization issues during data collection.\u001b[39m\n\u001b[1;32m    577\u001b[0m \u001b[38;5;124m            \u001b[39m\u001b[38;5;130;01m\\n\u001b[39;00m\u001b[38;5;132;01m{\u001b[39;00mpformat(outside_tolerances)\u001b[38;5;132;01m}\u001b[39;00m\u001b[38;5;124m\"\"\"\u001b[39m\n\u001b[1;32m    578\u001b[0m         )\n\u001b[1;32m    579\u001b[0m     \u001b[38;5;28;01mreturn\u001b[39;00m \u001b[38;5;28;01mFalse\u001b[39;00m\n\u001b[1;32m    581\u001b[0m \u001b[38;5;28;01mreturn\u001b[39;00m \u001b[38;5;28;01mTrue\u001b[39;00m\n",
      "\u001b[0;31mValueError\u001b[0m: One or several timestamps unexpectedly violate the tolerance inside episode range.\n                This might be due to synchronization issues during data collection.\n                \n[{'diff': np.float32(-59.433334),\n  'episode_index': 0,\n  'timestamps': [np.float32(59.433334), np.float32(0.0)]},\n {'diff': np.float32(-66.96667),\n  'episode_index': 1,\n  'timestamps': [np.float32(66.96667), np.float32(0.0)]},\n {'diff': np.float32(-59.033333),\n  'episode_index': 2,\n  'timestamps': [np.float32(59.033333), np.float32(0.0)]},\n {'diff': np.float32(-58.533333),\n  'episode_index': 3,\n  'timestamps': [np.float32(58.533333), np.float32(0.0)]},\n {'diff': np.float32(-61.2),\n  'episode_index': 4,\n  'timestamps': [np.float32(61.2), np.float32(0.0)]},\n {'diff': np.float32(-66.0),\n  'episode_index': 5,\n  'timestamps': [np.float32(66.0), np.float32(0.0)]},\n {'diff': np.float32(-60.166668),\n  'episode_index': 6,\n  'timestamps': [np.float32(60.166668), np.float32(0.0)]},\n {'diff': np.float32(-63.366665),\n  'episode_index': 7,\n  'timestamps': [np.float32(63.366665), np.float32(0.0)]},\n {'diff': np.float32(-61.0),\n  'episode_index': 8,\n  'timestamps': [np.float32(61.0), np.float32(0.0)]},\n {'diff': np.float32(-57.1),\n  'episode_index': 9,\n  'timestamps': [np.float32(57.1), np.float32(0.0)]},\n {'diff': np.float32(-59.166668),\n  'episode_index': 10,\n  'timestamps': [np.float32(59.166668), np.float32(0.0)]},\n {'diff': np.float32(-59.033333),\n  'episode_index': 11,\n  'timestamps': [np.float32(59.033333), np.float32(0.0)]},\n {'diff': np.float32(-57.266666),\n  'episode_index': 12,\n  'timestamps': [np.float32(57.266666), np.float32(0.0)]},\n {'diff': np.float32(-52.933334),\n  'episode_index': 13,\n  'timestamps': [np.float32(52.933334), np.float32(0.0)]},\n {'diff': np.float32(-58.933334),\n  'episode_index': 14,\n  'timestamps': [np.float32(58.933334), np.float32(0.0)]},\n {'diff': np.float32(-57.8),\n  'episode_index': 15,\n  'timestamps': [np.float32(57.8), np.float32(0.0)]},\n {'diff': np.float32(-55.7),\n  'episode_index': 16,\n  'timestamps': [np.float32(55.7), np.float32(0.0)]},\n {'diff': np.float32(-61.933334),\n  'episode_index': 17,\n  'timestamps': [np.float32(61.933334), np.float32(0.0)]},\n {'diff': np.float32(-55.433334),\n  'episode_index': 18,\n  'timestamps': [np.float32(55.433334), np.float32(0.0)]},\n {'diff': np.float32(-57.0),\n  'episode_index': 19,\n  'timestamps': [np.float32(57.0), np.float32(0.0)]},\n {'diff': np.float32(-63.066666),\n  'episode_index': 20,\n  'timestamps': [np.float32(63.066666), np.float32(0.0)]},\n {'diff': np.float32(-61.833332),\n  'episode_index': 21,\n  'timestamps': [np.float32(61.833332), np.float32(0.0)]},\n {'diff': np.float32(-54.033333),\n  'episode_index': 22,\n  'timestamps': [np.float32(54.033333), np.float32(0.0)]},\n {'diff': np.float32(-54.833332),\n  'episode_index': 23,\n  'timestamps': [np.float32(54.833332), np.float32(0.0)]}]"
     ]
    }
   ],
   "source": [
    "select_action_keys = [k for k in meta.features if k.startswith(\"action\")]\n",
    "\n",
    "dataset = LeRobotDataset(\n",
    "    repo_id=\"demos25\",\n",
    "    root=\"../demo_data/demos25\",\n",
    "    tolerance_s=1e-3,\n",
    "    delta_timestamps={\n",
    "        k: [i / meta.fps for i in range(0, 50)]\n",
    "        for k in select_action_keys\n",
    "    }\n",
    ")\n",
    "dataset[0].keys()"
   ]
  },
  {
   "cell_type": "markdown",
   "id": "8ffd7f05",
   "metadata": {},
   "source": [
    "## 2. Specific Robot Keys"
   ]
  },
  {
   "cell_type": "code",
   "execution_count": null,
   "id": "76454ac2",
   "metadata": {},
   "outputs": [],
   "source": [
    "from lerobot.datasets.lerobot_dataset import LeRobotDatasetMetadata\n",
    "\n",
    "from eo.data.lerobot_dataset import LeRobotDataset\n",
    "\n",
    "dataset = LeRobotDataset(\n",
    "    repo_id=\"libero_10_no_noops_1.0.0_lerobot\",\n",
    "    root=\"/nvme/eorobotics-oss/DATA/libero_10_no_noops_1.0.0_lerobot\",\n",
    "    episodes=[0],\n",
    "    select_video_keys=[\"observation.images.image\"],\n",
    "    select_state_keys=[\"observation.state\"],\n",
    "    select_action_keys=[\"action\"],\n",
    "    delta_timestamps={k: [i / meta.fps for i in range(0, 32)] for k in [\"action\"]}\n",
    ")\n",
    "\n",
    "dataset[0].keys()"
   ]
  },
  {
   "cell_type": "markdown",
   "id": "96c13e2f",
   "metadata": {},
   "source": [
    "## 3. Multi-robot Dataset"
   ]
  },
  {
   "cell_type": "code",
   "execution_count": null,
   "id": "30b20ce3",
   "metadata": {},
   "outputs": [],
   "source": [
    "from lerobot.datasets.lerobot_dataset import LeRobotDatasetMetadata\n",
    "\n",
    "from eo.data.lerobot_dataset import MultiLeRobotDataset\n",
    "from eo.data.schema import LerobotConfig\n",
    "\n",
    "# we use yaml data configs in large scale training\n",
    "multi_dataset = MultiLeRobotDataset(\n",
    "    data_configs=[\n",
    "        LerobotConfig(\n",
    "            repo_id=\"libero_10_no_noops_1.0.0_lerobot\",\n",
    "            root=\"/nvme/eorobotics-oss/DATA\",\n",
    "            episodes=[0],\n",
    "        ),\n",
    "        LerobotConfig(\n",
    "            repo_id=\"libero_spatial_no_noops_1.0.0_lerobot\",\n",
    "            root=\"/nvme/eorobotics-oss/DATA\",\n",
    "            episodes=[0],\n",
    "        )\n",
    "    ],\n",
    "    chunk_size=16 # NOTE: automatically construct delta_timestamps from the `metadata` and `chunk_size``\n",
    ")"
   ]
  },
  {
   "cell_type": "markdown",
   "id": "fd5b7923",
   "metadata": {},
   "source": [
    "## Load MultiModal Datasets"
   ]
  },
  {
   "cell_type": "code",
   "execution_count": 1,
   "id": "b53336e5",
   "metadata": {},
   "outputs": [
    {
     "name": "stderr",
     "output_type": "stream",
     "text": [
      "/mnt/shared-storage-user/eorobotics-shared/miniconda3/envs/eo/lib/python3.10/site-packages/tqdm/auto.py:21: TqdmWarning: IProgress not found. Please update jupyter and ipywidgets. See https://ipywidgets.readthedocs.io/en/stable/user_install.html\n",
      "  from .autonotebook import tqdm as notebook_tqdm\n"
     ]
    },
    {
     "name": "stdout",
     "output_type": "stream",
     "text": [
      "Loaded 9 samples from ../demo_data/refcoco/refcoco.jsonl\n"
     ]
    },
    {
     "data": {
      "text/plain": [
       "9"
      ]
     },
     "execution_count": 1,
     "metadata": {},
     "output_type": "execute_result"
    }
   ],
   "source": [
    "from eo.data.multim_dataset import MultimodaDataset\n",
    "from eo.data.schema import MMDatasetConfig\n",
    "\n",
    "multim_dataset = MultimodaDataset(\n",
    "    data_configs = [\n",
    "        MMDatasetConfig(\n",
    "            json_path=\"../demo_data/refcoco/refcoco.jsonl\",\n",
    "            vision_base_path=\"../demo_data/refcoco\"\n",
    "        ),\n",
    "    ]\n",
    ")\n",
    "\n",
    "len(multim_dataset)"
   ]
  },
  {
   "cell_type": "code",
   "execution_count": 2,
   "id": "0dff93ce",
   "metadata": {},
   "outputs": [
    {
     "name": "stdout",
     "output_type": "stream",
     "text": [
      "* load 1 lerobot datasets with 8 processes ...\n"
     ]
    },
    {
     "name": "stderr",
     "output_type": "stream",
     "text": [
      "Loading lerobot datasets:   0%|          | 0/1 [00:00<?, ?it/s]"
     ]
    },
    {
     "name": "stdout",
     "output_type": "stream",
     "text": [
      "[warn] read dataset demos25 failed, skipped!\n",
      "One or several timestamps unexpectedly violate the tolerance inside episode range.\n",
      "                This might be due to synchronization issues during data collection.\n",
      "                \n",
      "[{'diff': np.float32(-59.433334),\n",
      "  'episode_index': 0,\n",
      "  'timestamps': [np.float32(59.433334), np.float32(0.0)]},\n",
      " {'diff': np.float32(-66.96667),\n",
      "  'episode_index': 1,\n",
      "  'timestamps': [np.float32(66.96667), np.float32(0.0)]},\n",
      " {'diff': np.float32(-59.033333),\n",
      "  'episode_index': 2,\n",
      "  'timestamps': [np.float32(59.033333), np.float32(0.0)]},\n",
      " {'diff': np.float32(-58.533333),\n",
      "  'episode_index': 3,\n",
      "  'timestamps': [np.float32(58.533333), np.float32(0.0)]},\n",
      " {'diff': np.float32(-61.2),\n",
      "  'episode_index': 4,\n",
      "  'timestamps': [np.float32(61.2), np.float32(0.0)]},\n",
      " {'diff': np.float32(-66.0),\n",
      "  'episode_index': 5,\n",
      "  'timestamps': [np.float32(66.0), np.float32(0.0)]},\n",
      " {'diff': np.float32(-60.166668),\n",
      "  'episode_index': 6,\n",
      "  'timestamps': [np.float32(60.166668), np.float32(0.0)]},\n",
      " {'diff': np.float32(-63.366665),\n",
      "  'episode_index': 7,\n",
      "  'timestamps': [np.float32(63.366665), np.float32(0.0)]},\n",
      " {'diff': np.float32(-61.0),\n",
      "  'episode_index': 8,\n",
      "  'timestamps': [np.float32(61.0), np.float32(0.0)]},\n",
      " {'diff': np.float32(-57.1),\n",
      "  'episode_index': 9,\n",
      "  'timestamps': [np.float32(57.1), np.float32(0.0)]},\n",
      " {'diff': np.float32(-59.166668),\n",
      "  'episode_index': 10,\n",
      "  'timestamps': [np.float32(59.166668), np.float32(0.0)]},\n",
      " {'diff': np.float32(-59.033333),\n",
      "  'episode_index': 11,\n",
      "  'timestamps': [np.float32(59.033333), np.float32(0.0)]},\n",
      " {'diff': np.float32(-57.266666),\n",
      "  'episode_index': 12,\n",
      "  'timestamps': [np.float32(57.266666), np.float32(0.0)]},\n",
      " {'diff': np.float32(-52.933334),\n",
      "  'episode_index': 13,\n",
      "  'timestamps': [np.float32(52.933334), np.float32(0.0)]},\n",
      " {'diff': np.float32(-58.933334),\n",
      "  'episode_index': 14,\n",
      "  'timestamps': [np.float32(58.933334), np.float32(0.0)]},\n",
      " {'diff': np.float32(-57.8),\n",
      "  'episode_index': 15,\n",
      "  'timestamps': [np.float32(57.8), np.float32(0.0)]},\n",
      " {'diff': np.float32(-55.7),\n",
      "  'episode_index': 16,\n",
      "  'timestamps': [np.float32(55.7), np.float32(0.0)]},\n",
      " {'diff': np.float32(-61.933334),\n",
      "  'episode_index': 17,\n",
      "  'timestamps': [np.float32(61.933334), np.float32(0.0)]},\n",
      " {'diff': np.float32(-55.433334),\n",
      "  'episode_index': 18,\n",
      "  'timestamps': [np.float32(55.433334), np.float32(0.0)]},\n",
      " {'diff': np.float32(-57.0),\n",
      "  'episode_index': 19,\n",
      "  'timestamps': [np.float32(57.0), np.float32(0.0)]},\n",
      " {'diff': np.float32(-63.066666),\n",
      "  'episode_index': 20,\n",
      "  'timestamps': [np.float32(63.066666), np.float32(0.0)]},\n",
      " {'diff': np.float32(-61.833332),\n",
      "  'episode_index': 21,\n",
      "  'timestamps': [np.float32(61.833332), np.float32(0.0)]},\n",
      " {'diff': np.float32(-54.033333),\n",
      "  'episode_index': 22,\n",
      "  'timestamps': [np.float32(54.033333), np.float32(0.0)]},\n",
      " {'diff': np.float32(-54.833332),\n",
      "  'episode_index': 23,\n",
      "  'timestamps': [np.float32(54.833332), np.float32(0.0)]}]\n"
     ]
    },
    {
     "name": "stderr",
     "output_type": "stream",
     "text": [
      "Loading lerobot datasets: 100%|██████████| 1/1 [00:25<00:00, 25.90s/it]"
     ]
    },
    {
     "name": "stdout",
     "output_type": "stream",
     "text": [
      "successfully load dataset 0/1:\n",
      "[] \n"
     ]
    },
    {
     "name": "stderr",
     "output_type": "stream",
     "text": [
      "\n"
     ]
    }
   ],
   "source": [
    "from eo.data.lerobot_dataset import MultiLeRobotDataset\n",
    "from eo.data.multim_dataset import MultimodaDataset\n",
    "from eo.data.schema import LerobotConfig, MMDatasetConfig\n",
    "\n",
    "lerobot_dataset = MultiLeRobotDataset(\n",
    "    data_configs = [\n",
    "        LerobotConfig(\n",
    "            repo_id=\"demos25\",\n",
    "            root=\"../demo_data\",\n",
    "        )\n",
    "    ]\n",
    ")"
   ]
  },
  {
   "cell_type": "code",
   "execution_count": 5,
   "id": "d6a92945",
   "metadata": {},
   "outputs": [
    {
     "name": "stdout",
     "output_type": "stream",
     "text": [
      "Loaded 1132 samples from ../demo_data/interleaved_demo.jsonl\n"
     ]
    },
    {
     "ename": "ValueError",
     "evalue": "invalid dataset: demos25. available dataset: []",
     "output_type": "error",
     "traceback": [
      "\u001b[0;31m---------------------------------------------------------------------------\u001b[0m",
      "\u001b[0;31mValueError\u001b[0m                                Traceback (most recent call last)",
      "Cell \u001b[0;32mIn[5], line 10\u001b[0m\n\u001b[1;32m      1\u001b[0m multim_dataset \u001b[38;5;241m=\u001b[39m MultimodaDataset(\n\u001b[1;32m      2\u001b[0m     data_configs \u001b[38;5;241m=\u001b[39m [\n\u001b[1;32m      3\u001b[0m         MMDatasetConfig(\n\u001b[0;32m   (...)\u001b[0m\n\u001b[1;32m      7\u001b[0m     meta_dataset \u001b[38;5;241m=\u001b[39m lerobot_dataset\n\u001b[1;32m      8\u001b[0m )\n\u001b[0;32m---> 10\u001b[0m \u001b[43mmultim_dataset\u001b[49m\u001b[43m[\u001b[49m\u001b[38;5;241;43m0\u001b[39;49m\u001b[43m]\u001b[49m\n",
      "File \u001b[0;32m/mnt/shared-storage-user/eorobotics-shared/EO-1/eo/data/multim_dataset.py:124\u001b[0m, in \u001b[0;36mMultimodaDataset.__getitem__\u001b[0;34m(self, i)\u001b[0m\n\u001b[1;32m    122\u001b[0m \u001b[38;5;28;01mfor\u001b[39;00m le \u001b[38;5;129;01min\u001b[39;00m sources[\u001b[38;5;124m\"\u001b[39m\u001b[38;5;124mlerobot\u001b[39m\u001b[38;5;124m\"\u001b[39m]:\n\u001b[1;32m    123\u001b[0m     repo_id, idx, chunk_size \u001b[38;5;241m=\u001b[39m le\u001b[38;5;241m.\u001b[39msplit(\u001b[38;5;124m\"\u001b[39m\u001b[38;5;124m \u001b[39m\u001b[38;5;124m\"\u001b[39m)\n\u001b[0;32m--> 124\u001b[0m     items \u001b[38;5;241m+\u001b[39m\u001b[38;5;241m=\u001b[39m [\u001b[38;5;28;43mself\u001b[39;49m\u001b[38;5;241;43m.\u001b[39;49m\u001b[43m__get_metadata\u001b[49m\u001b[43m(\u001b[49m\u001b[43mrepo_id\u001b[49m\u001b[43m,\u001b[49m\u001b[43m \u001b[49m\u001b[38;5;28;43mint\u001b[39;49m\u001b[43m(\u001b[49m\u001b[43midx\u001b[49m\u001b[43m)\u001b[49m\u001b[43m)\u001b[49m]\n\u001b[1;32m    125\u001b[0m sources \u001b[38;5;241m=\u001b[39m build_interleaved_prompt(\n\u001b[1;32m    126\u001b[0m     items,\n\u001b[1;32m    127\u001b[0m     sources,\n\u001b[0;32m   (...)\u001b[0m\n\u001b[1;32m    130\u001b[0m     sample_actions\u001b[38;5;241m=\u001b[39m\u001b[38;5;28mself\u001b[39m\u001b[38;5;241m.\u001b[39msample_actions,\n\u001b[1;32m    131\u001b[0m )\n\u001b[1;32m    132\u001b[0m transformed_source \u001b[38;5;241m=\u001b[39m sources\n",
      "File \u001b[0;32m/mnt/shared-storage-user/eorobotics-shared/EO-1/eo/data/multim_dataset.py:143\u001b[0m, in \u001b[0;36mMultimodaDataset.__get_metadata\u001b[0;34m(self, repo_id, idx)\u001b[0m\n\u001b[1;32m    141\u001b[0m \u001b[38;5;250m\u001b[39m\u001b[38;5;124;03m\"\"\"Get the metadata from lerobot dataset.\"\"\"\u001b[39;00m\n\u001b[1;32m    142\u001b[0m \u001b[38;5;66;03m# raise NotImplementedError(\"__get_metadata is not implemented\")\u001b[39;00m\n\u001b[0;32m--> 143\u001b[0m \u001b[38;5;28;01mreturn\u001b[39;00m \u001b[38;5;28;43mself\u001b[39;49m\u001b[38;5;241;43m.\u001b[39;49m\u001b[43mmeta_dataset\u001b[49m\u001b[38;5;241;43m.\u001b[39;49m\u001b[43mgetitem_by_id\u001b[49m\u001b[43m(\u001b[49m\u001b[43mrepo_id\u001b[49m\u001b[43m,\u001b[49m\u001b[43m \u001b[49m\u001b[43midx\u001b[49m\u001b[43m)\u001b[49m\n",
      "File \u001b[0;32m/mnt/shared-storage-user/eorobotics-shared/EO-1/eo/data/lerobot_dataset.py:411\u001b[0m, in \u001b[0;36mMultiLeRobotDataset.getitem_by_id\u001b[0;34m(self, repo_id, idx, chunk_size)\u001b[0m\n\u001b[1;32m    409\u001b[0m dataset_idx \u001b[38;5;241m=\u001b[39m \u001b[38;5;28mself\u001b[39m\u001b[38;5;241m.\u001b[39m_repo_ids_index\u001b[38;5;241m.\u001b[39mget(repo_id)\n\u001b[1;32m    410\u001b[0m \u001b[38;5;28;01mif\u001b[39;00m dataset_idx \u001b[38;5;129;01mis\u001b[39;00m \u001b[38;5;28;01mNone\u001b[39;00m:\n\u001b[0;32m--> 411\u001b[0m     \u001b[38;5;28;01mraise\u001b[39;00m \u001b[38;5;167;01mValueError\u001b[39;00m(\u001b[38;5;124mf\u001b[39m\u001b[38;5;124m\"\u001b[39m\u001b[38;5;124minvalid dataset: \u001b[39m\u001b[38;5;132;01m{\u001b[39;00mrepo_id\u001b[38;5;132;01m}\u001b[39;00m\u001b[38;5;124m. available dataset: \u001b[39m\u001b[38;5;132;01m{\u001b[39;00m\u001b[38;5;28mself\u001b[39m\u001b[38;5;241m.\u001b[39mrepo_ids\u001b[38;5;132;01m}\u001b[39;00m\u001b[38;5;124m\"\u001b[39m)\n\u001b[1;32m    412\u001b[0m lerobot_dataset \u001b[38;5;241m=\u001b[39m \u001b[38;5;28mself\u001b[39m\u001b[38;5;241m.\u001b[39m_datasets[dataset_idx]\n\u001b[1;32m    414\u001b[0m delta_indices \u001b[38;5;241m=\u001b[39m \u001b[38;5;28;01mNone\u001b[39;00m\n",
      "\u001b[0;31mValueError\u001b[0m: invalid dataset: demos25. available dataset: []"
     ]
    }
   ],
   "source": [
    "multim_dataset = MultimodaDataset(\n",
    "    data_configs = [\n",
    "        MMDatasetConfig(\n",
    "            json_path=\"../demo_data/interleaved_demo.jsonl\"\n",
    "        ),\n",
    "    ],\n",
    "    meta_dataset = lerobot_dataset\n",
    ")\n",
    "\n",
    "multim_dataset[0]"
   ]
  }
 ],
 "metadata": {
  "kernelspec": {
   "display_name": "eo",
   "language": "python",
   "name": "python3"
  },
  "language_info": {
   "codemirror_mode": {
    "name": "ipython",
    "version": 3
   },
   "file_extension": ".py",
   "mimetype": "text/x-python",
   "name": "python",
   "nbconvert_exporter": "python",
   "pygments_lexer": "ipython3",
   "version": "3.10.18"
  }
 },
 "nbformat": 4,
 "nbformat_minor": 5
}
