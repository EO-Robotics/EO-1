{
 "cells": [
  {
   "cell_type": "markdown",
   "id": "553b0140",
   "metadata": {},
   "source": [
    "# Guide to load dataset for inference\n",
    "\n",
    "\n",
    "## 1. LeRobot Format\n",
    "\n",
    "* This tutorial will show how to load data in LeRobot Format by using our dataloader. \n",
    "* We will use the `robot_sim.PickNPlace` dataset as an example which is already converted to LeRobot Format. \n",
    "* To understand how to convert your own dataset, please refer to [Gr00t's LeRobot.md](LeRobot_compatible_data_schema.md)"
   ]
  },
  {
   "cell_type": "code",
   "execution_count": null,
   "id": "32d82c94",
   "metadata": {},
   "outputs": [],
   "source": [
    "# download dataset from hub\n",
    "!huggingface-cli download libero_10_no_noops_1.0.0_lerobot --repo-id libero_10_no_noops_1.0.0_lerobot --allow-patterns \"*.mp4\""
   ]
  },
  {
   "cell_type": "markdown",
   "id": "9f1c6661",
   "metadata": {},
   "source": [
    "- meta data"
   ]
  },
  {
   "cell_type": "code",
   "execution_count": 3,
   "id": "121fb6a6",
   "metadata": {},
   "outputs": [
    {
     "name": "stderr",
     "output_type": "stream",
     "text": [
      "WARNING:root:\n",
      "The dataset you requested (libero_spatial_no_noops_1.0.0_lerobot) is in 2.0 format.\n",
      "While current version of LeRobot is backward-compatible with it, the version of your dataset still uses global\n",
      "stats instead of per-episode stats. Update your dataset stats to the new format using this command:\n",
      "```\n",
      "python -m lerobot.datasets.v21.convert_dataset_v20_to_v21 --repo-id=libero_spatial_no_noops_1.0.0_lerobot\n",
      "```\n",
      "\n",
      "If you encounter a problem, contact LeRobot maintainers on [Discord](https://discord.com/invite/s3KuuzsPFb)\n",
      "or open an [issue on GitHub](https://github.com/huggingface/lerobot/issues/new/choose).\n",
      "\n"
     ]
    }
   ],
   "source": [
    "from lerobot.datasets.lerobot_dataset import LeRobotDatasetMetadata\n",
    "\n",
    "from eo.data.lerobot_dataset import LeRobotDataset\n",
    "\n",
    "meta = LeRobotDatasetMetadata(\n",
    "    repo_id=\"libero_spatial_no_noops_1.0.0_lerobot\",\n",
    "    root=\"../demo_data/libero_spatial_no_noops_1.0.0_lerobot\",\n",
    ")"
   ]
  },
  {
   "cell_type": "code",
   "execution_count": 5,
   "id": "b660607a",
   "metadata": {},
   "outputs": [
    {
     "name": "stdout",
     "output_type": "stream",
     "text": [
      "/mnt/shared-storage-user/eorobotics-shared/miniconda3/envs/eo/bin/ffmpeg\n"
     ]
    }
   ],
   "source": [
    "!which ffmpeg"
   ]
  },
  {
   "cell_type": "code",
   "execution_count": 4,
   "id": "901ba114",
   "metadata": {},
   "outputs": [
    {
     "name": "stderr",
     "output_type": "stream",
     "text": [
      "WARNING:root:\n",
      "The dataset you requested (libero_spatial_no_noops_1.0.0_lerobot) is in 2.0 format.\n",
      "While current version of LeRobot is backward-compatible with it, the version of your dataset still uses global\n",
      "stats instead of per-episode stats. Update your dataset stats to the new format using this command:\n",
      "```\n",
      "python -m lerobot.datasets.v21.convert_dataset_v20_to_v21 --repo-id=libero_spatial_no_noops_1.0.0_lerobot\n",
      "```\n",
      "\n",
      "If you encounter a problem, contact LeRobot maintainers on [Discord](https://discord.com/invite/s3KuuzsPFb)\n",
      "or open an [issue on GitHub](https://github.com/huggingface/lerobot/issues/new/choose).\n",
      "\n",
      "Generating train split: 110 examples [00:00, 14961.20 examples/s]\n"
     ]
    },
    {
     "name": "stdout",
     "output_type": "stream",
     "text": [
      "* set delta action mode for libero_spatial_no_noops_1.0.0_lerobot ...\n"
     ]
    },
    {
     "data": {
      "text/plain": [
       "{'observation.images.image': tensor([[[0.4235, 0.4235, 0.4235,  ..., 0.4157, 0.4157, 0.4157],\n",
       "          [0.4235, 0.4235, 0.4235,  ..., 0.4157, 0.4157, 0.4157],\n",
       "          [0.4235, 0.4235, 0.4235,  ..., 0.4157, 0.4157, 0.4157],\n",
       "          ...,\n",
       "          [0.7882, 0.7647, 0.7647,  ..., 0.6980, 0.6980, 0.6980],\n",
       "          [0.7882, 0.7647, 0.7608,  ..., 0.6980, 0.6980, 0.6980],\n",
       "          [0.7843, 0.7608, 0.7608,  ..., 0.6980, 0.6980, 0.6980]],\n",
       " \n",
       "         [[0.4157, 0.4157, 0.4157,  ..., 0.4078, 0.4078, 0.4078],\n",
       "          [0.4157, 0.4157, 0.4157,  ..., 0.4078, 0.4078, 0.4078],\n",
       "          [0.4157, 0.4157, 0.4157,  ..., 0.4078, 0.4078, 0.4078],\n",
       "          ...,\n",
       "          [0.7137, 0.6902, 0.6902,  ..., 0.6392, 0.6353, 0.6353],\n",
       "          [0.7137, 0.6902, 0.6863,  ..., 0.6392, 0.6353, 0.6353],\n",
       "          [0.7098, 0.6863, 0.6863,  ..., 0.6392, 0.6353, 0.6353]],\n",
       " \n",
       "         [[0.4000, 0.4000, 0.4000,  ..., 0.3922, 0.3922, 0.3922],\n",
       "          [0.4000, 0.4000, 0.4000,  ..., 0.3922, 0.3922, 0.3922],\n",
       "          [0.4000, 0.4000, 0.4000,  ..., 0.3922, 0.3922, 0.3922],\n",
       "          ...,\n",
       "          [0.6510, 0.6275, 0.6275,  ..., 0.5608, 0.5686, 0.5686],\n",
       "          [0.6510, 0.6275, 0.6235,  ..., 0.5608, 0.5686, 0.5686],\n",
       "          [0.6471, 0.6235, 0.6235,  ..., 0.5608, 0.5686, 0.5686]]]),\n",
       " 'observation.images.wrist_image': tensor([[[0.0471, 0.0471, 0.0471,  ..., 0.8471, 0.8471, 0.6745],\n",
       "          [0.0471, 0.0471, 0.0471,  ..., 0.8471, 0.8471, 0.7176],\n",
       "          [0.0471, 0.0471, 0.0471,  ..., 0.8510, 0.8510, 0.7765],\n",
       "          ...,\n",
       "          [0.2039, 0.2039, 0.2039,  ..., 0.2078, 0.2078, 0.2078],\n",
       "          [0.2039, 0.2039, 0.2039,  ..., 0.2078, 0.2078, 0.2078],\n",
       "          [0.2039, 0.2039, 0.2039,  ..., 0.2078, 0.2078, 0.2078]],\n",
       " \n",
       "         [[0.0471, 0.0471, 0.0471,  ..., 0.8392, 0.8392, 0.6667],\n",
       "          [0.0471, 0.0471, 0.0471,  ..., 0.8392, 0.8392, 0.7098],\n",
       "          [0.0471, 0.0471, 0.0471,  ..., 0.8431, 0.8431, 0.7686],\n",
       "          ...,\n",
       "          [0.2039, 0.2039, 0.2039,  ..., 0.2078, 0.2078, 0.2078],\n",
       "          [0.2039, 0.2039, 0.2039,  ..., 0.2078, 0.2078, 0.2078],\n",
       "          [0.2039, 0.2039, 0.2039,  ..., 0.2078, 0.2078, 0.2078]],\n",
       " \n",
       "         [[0.0353, 0.0353, 0.0353,  ..., 0.8235, 0.8235, 0.6510],\n",
       "          [0.0353, 0.0353, 0.0353,  ..., 0.8235, 0.8235, 0.6941],\n",
       "          [0.0353, 0.0353, 0.0353,  ..., 0.8275, 0.8275, 0.7529],\n",
       "          ...,\n",
       "          [0.2039, 0.2039, 0.2039,  ..., 0.2078, 0.2078, 0.2078],\n",
       "          [0.2039, 0.2039, 0.2039,  ..., 0.2078, 0.2078, 0.2078],\n",
       "          [0.2039, 0.2039, 0.2039,  ..., 0.2078, 0.2078, 0.2078]]]),\n",
       " 'observation.state': tensor([-1.6379, -0.8460,  1.1166,  0.7347,  0.2548, -0.7860,  1.0910, -1.0886]),\n",
       " 'action': tensor([[-5.3000e-02, -5.1042e-01,  3.0524e-01,  1.3891e-01, -5.2557e-01,\n",
       "           3.5045e-01,  1.0881e+00],\n",
       "         [ 4.2725e-01, -4.5642e-01,  3.0524e-01,  1.3891e-01, -1.0580e+00,\n",
       "           3.5045e-01,  1.0881e+00],\n",
       "         [ 7.3227e-01, -4.2557e-01,  3.0524e-01,  5.2656e-02, -1.2058e+00,\n",
       "           3.5045e-01,  1.0881e+00],\n",
       "         [ 1.1087e+00, -4.1786e-01,  3.0524e-01,  5.2656e-02, -1.3242e+00,\n",
       "           3.5045e-01,  1.0881e+00],\n",
       "         [ 1.4721e+00, -3.9472e-01,  3.0524e-01,  8.1408e-02, -1.4277e+00,\n",
       "           4.0623e-01,  1.0881e+00],\n",
       "         [ 1.7252e+00, -3.9472e-01,  3.0524e-01,  1.3891e-01, -1.2946e+00,\n",
       "           4.8061e-01,  1.0881e+00],\n",
       "         [ 1.8940e+00, -3.9472e-01,  2.5258e-01,  1.3891e-01, -1.0580e+00,\n",
       "           5.5498e-01,  1.0881e+00],\n",
       "         [ 1.9005e+00, -3.9472e-01,  1.3673e-01,  8.1408e-02, -7.9176e-01,\n",
       "           5.7358e-01,  1.0881e+00],\n",
       "         [ 1.9005e+00, -3.9472e-01,  1.2094e-01, -9.1105e-02, -8.6571e-01,\n",
       "           5.1780e-01,  1.0881e+00],\n",
       "         [ 1.9005e+00, -3.9472e-01,  5.2482e-02, -3.2112e-01, -1.1615e+00,\n",
       "           4.4342e-01,  1.0881e+00],\n",
       "         [ 1.9005e+00, -3.9472e-01, -1.4762e-01, -2.0611e-01, -7.7698e-01,\n",
       "           4.9920e-01,  1.0881e+00],\n",
       "         [ 1.9005e+00, -3.9472e-01, -3.7931e-01,  1.3891e-01, -7.9636e-03,\n",
       "           7.0373e-01,  1.0881e+00],\n",
       "         [ 1.9005e+00, -3.9472e-01, -4.4777e-01,  1.3891e-01,  1.5471e-01,\n",
       "           7.9670e-01,  1.0881e+00],\n",
       "         [ 1.9005e+00, -3.9472e-01, -4.8463e-01,  1.3891e-01,  1.5471e-01,\n",
       "           9.4545e-01,  1.0881e+00],\n",
       "         [ 1.9005e+00, -3.9472e-01, -5.4255e-01,  1.3891e-01,  3.3218e-01,\n",
       "           1.0384e+00,  1.0881e+00],\n",
       "         [ 1.9005e+00, -3.9472e-01, -6.0048e-01,  1.3891e-01,  3.7654e-01,\n",
       "           1.0570e+00,  1.0881e+00],\n",
       "         [ 1.8615e+00, -3.9472e-01, -7.1106e-01,  1.3891e-01,  5.5401e-01,\n",
       "           1.1686e+00,  1.0881e+00],\n",
       "         [ 1.8550e+00, -3.9472e-01, -7.3739e-01,  1.3891e-01,  5.6880e-01,\n",
       "           1.1872e+00,  1.0881e+00],\n",
       "         [ 1.8291e+00, -3.9472e-01, -7.7425e-01,  1.3891e-01,  5.8358e-01,\n",
       "           1.2615e+00,  1.0881e+00],\n",
       "         [ 1.8291e+00, -3.7929e-01, -7.5318e-01,  1.3891e-01,  4.8006e-01,\n",
       "           1.2987e+00,  1.0881e+00],\n",
       "         [ 1.8420e+00, -3.4844e-01, -7.3739e-01,  1.3891e-01,  4.3570e-01,\n",
       "           1.3173e+00,  1.0881e+00],\n",
       "         [ 1.8810e+00, -2.7902e-01, -6.5840e-01,  1.3891e-01,  3.4696e-01,\n",
       "           1.3173e+00,  1.0881e+00],\n",
       "         [ 1.9005e+00, -2.2503e-01, -6.1627e-01,  2.3904e-02,  3.3218e-01,\n",
       "           1.2429e+00,  1.0881e+00],\n",
       "         [ 1.9005e+00, -9.3900e-02, -5.1622e-01, -1.4861e-01,  2.8781e-01,\n",
       "           1.2615e+00,  1.0881e+00],\n",
       "         [ 1.9005e+00, -1.3402e-03, -4.4250e-01, -2.3487e-01,  3.4696e-01,\n",
       "           1.2615e+00,  1.0881e+00],\n",
       "         [ 1.9005e+00, -9.0535e-03, -4.1091e-01, -3.2112e-01,  4.2091e-01,\n",
       "           1.1686e+00,  1.0881e+00],\n",
       "         [ 1.9005e+00, -2.9445e-01, -4.1091e-01,  2.3904e-02,  6.2795e-01,\n",
       "           9.0826e-01,  1.0881e+00],\n",
       "         [ 1.7058e+00, -4.9499e-01, -4.9516e-01,  1.3891e-01,  6.5753e-01,\n",
       "           3.5045e-01,  1.0881e+00],\n",
       "         [ 1.5305e+00, -5.7212e-01, -4.7410e-01,  1.3891e-01,  6.1316e-01,\n",
       "           3.5045e-01,  1.0881e+00],\n",
       "         [ 1.3553e+00, -6.8782e-01, -5.1096e-01,  1.3891e-01,  5.5401e-01,\n",
       "           3.5045e-01,  1.0881e+00],\n",
       "         [ 1.1022e+00, -7.7267e-01, -5.5308e-01,  1.3891e-01,  2.5823e-01,\n",
       "           3.5045e-01,  1.0881e+00],\n",
       "         [ 7.0631e-01, -9.6550e-01, -6.2680e-01,  1.3891e-01,  1.5471e-01,\n",
       "           3.5045e-01,  1.0881e+00]]),\n",
       " 'timestamp': tensor(0.),\n",
       " 'frame_index': tensor(0),\n",
       " 'episode_index': tensor(0),\n",
       " 'index': tensor(0),\n",
       " 'task_index': tensor(0),\n",
       " 'action_is_pad': tensor([False, False, False, False, False, False, False, False, False, False,\n",
       "         False, False, False, False, False, False, False, False, False, False,\n",
       "         False, False, False, False, False, False, False, False, False, False,\n",
       "         False, False]),\n",
       " 'task': 'pick up the black bowl next to the cookie box and place it on the plate'}"
      ]
     },
     "execution_count": 4,
     "metadata": {},
     "output_type": "execute_result"
    }
   ],
   "source": [
    "dataset = LeRobotDataset(\n",
    "    repo_id=\"libero_spatial_no_noops_1.0.0_lerobot\",\n",
    "    root=\"../demo_data/libero_spatial_no_noops_1.0.0_lerobot\",\n",
    "    episodes=[0],\n",
    "    delta_timestamps={k: [i / meta.fps for i in range(0, 32)] for k in [\"action\"]}\n",
    ")\n",
    "dataset[0]"
   ]
  },
  {
   "cell_type": "markdown",
   "id": "8ffd7f05",
   "metadata": {},
   "source": [
    "## 2. Specific Robot Keys"
   ]
  },
  {
   "cell_type": "code",
   "execution_count": null,
   "id": "76454ac2",
   "metadata": {},
   "outputs": [],
   "source": [
    "from lerobot.datasets.lerobot_dataset import LeRobotDatasetMetadata\n",
    "\n",
    "from eo.data.lerobot_dataset import LeRobotDataset\n",
    "\n",
    "dataset = LeRobotDataset(\n",
    "    repo_id=\"libero_10_no_noops_1.0.0_lerobot\",\n",
    "    root=\"/nvme/eorobotics-oss/DATA/libero_10_no_noops_1.0.0_lerobot\",\n",
    "    episodes=[0],\n",
    "    select_video_keys=[\"observation.images.image\"],\n",
    "    select_state_keys=[\"observation.state\"],\n",
    "    select_action_keys=[\"action\"],\n",
    "    delta_timestamps={k: [i / meta.fps for i in range(0, 32)] for k in [\"action\"]}\n",
    ")\n",
    "\n",
    "dataset[0].keys()"
   ]
  },
  {
   "cell_type": "markdown",
   "id": "96c13e2f",
   "metadata": {},
   "source": [
    "## 3. Multi-robot Dataset"
   ]
  },
  {
   "cell_type": "code",
   "execution_count": null,
   "id": "30b20ce3",
   "metadata": {},
   "outputs": [],
   "source": [
    "from lerobot.datasets.lerobot_dataset import LeRobotDatasetMetadata\n",
    "\n",
    "from eo.data.lerobot_dataset import MultiLeRobotDataset\n",
    "from eo.data.schema import LerobotConfig\n",
    "\n",
    "# we use yaml data configs in large scale training\n",
    "multi_dataset = MultiLeRobotDataset(\n",
    "    data_configs=[\n",
    "        LerobotConfig(\n",
    "            repo_id=\"libero_10_no_noops_1.0.0_lerobot\",\n",
    "            root=\"/nvme/eorobotics-oss/DATA\",\n",
    "            episodes=[0],\n",
    "        ),\n",
    "        LerobotConfig(\n",
    "            repo_id=\"libero_spatial_no_noops_1.0.0_lerobot\",\n",
    "            root=\"/nvme/eorobotics-oss/DATA\",\n",
    "            episodes=[0],\n",
    "        )\n",
    "    ],\n",
    "    chunk_size=16 # NOTE: automatically construct delta_timestamps from the `metadata` and `chunk_size``\n",
    ")"
   ]
  },
  {
   "cell_type": "markdown",
   "id": "fd5b7923",
   "metadata": {},
   "source": [
    "## Load MultiModal Datasets"
   ]
  },
  {
   "cell_type": "code",
   "execution_count": null,
   "id": "b53336e5",
   "metadata": {},
   "outputs": [],
   "source": [
    "from eo.data.multim_dataset import MultimodaDataset\n",
    "from eo.data.schema import MMDatasetConfig\n",
    "\n",
    "multim_dataset = MultimodaDataset(\n",
    "    data_configs = [\n",
    "        MMDatasetConfig(\n",
    "            json_path=\"demo_data/refcoco/refcoco.jsonl\",\n",
    "            vision_base_path=\"demo_data/refcoco\"\n",
    "        ),\n",
    "    ]\n",
    ")\n",
    "\n",
    "len(multim_dataset)"
   ]
  },
  {
   "cell_type": "code",
   "execution_count": null,
   "id": "0dff93ce",
   "metadata": {},
   "outputs": [],
   "source": [
    "from eo.data.lerobot_dataset import MultiLeRobotDataset\n",
    "from eo.data.multim_dataset import MultimodaDataset\n",
    "from eo.data.schema import LerobotConfig, MMDatasetConfig\n",
    "\n",
    "lerobot_dataset = MultiLeRobotDataset(\n",
    "    data_configs = [\n",
    "        LerobotConfig(\n",
    "            repo_id=\"libero_spatial_no_noops_1.0.0_lerobot\",\n",
    "            root=\"/mnt/shared-storage-user/eorobotics-shared/EO-1/getting_started/demo_data\",\n",
    "        )\n",
    "    ]\n",
    ")\n",
    "\n",
    "multim_dataset = MultimodaDataset(\n",
    "    data_configs = [\n",
    "        MMDatasetConfig(\n",
    "            json_path=\"demo_data/libero_spatial_mmu.jsonl\"\n",
    "        ),\n",
    "    ],\n",
    "    meta_dataset = lerobot_dataset\n",
    ")\n",
    "\n",
    "multim_dataset[0]"
   ]
  }
 ],
 "metadata": {
  "kernelspec": {
   "display_name": "eo",
   "language": "python",
   "name": "python3"
  },
  "language_info": {
   "codemirror_mode": {
    "name": "ipython",
    "version": 3
   },
   "file_extension": ".py",
   "mimetype": "text/x-python",
   "name": "python",
   "nbconvert_exporter": "python",
   "pygments_lexer": "ipython3",
   "version": "3.10.18"
  }
 },
 "nbformat": 4,
 "nbformat_minor": 5
}
